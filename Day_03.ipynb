{
 "cells": [
  {
   "cell_type": "markdown",
   "id": "8944ea12",
   "metadata": {},
   "source": [
    "# Day 3 – Advanced Python Concepts (OOP, Decorators, Modules)\n",
    "**Focus Areas:** Classes & Objects, Inheritance, Encapsulation, Decorators, and Custom Modules."
   ]
  },
  {
   "cell_type": "markdown",
   "id": "62badb17",
   "metadata": {},
   "source": [
    "## 1. Object-Oriented Programming (OOP) Basics"
   ]
  },
  {
   "cell_type": "markdown",
   "id": "ac15aebd",
   "metadata": {},
   "source": []
  }
 ],
 "metadata": {
  "language_info": {
   "name": "python"
  }
 },
 "nbformat": 4,
 "nbformat_minor": 5
}
