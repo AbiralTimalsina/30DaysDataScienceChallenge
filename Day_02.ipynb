{
 "cells": [
  {
   "cell_type": "markdown",
   "id": "bf8e11ef-f297-4c58-86f9-495491fedda8",
   "metadata": {},
   "source": [
    "# Day 2 – Core Python (Intermediate Logic & Data Handling)\n",
    "**Topics Covered:** Loops, comprehension, file handling, error handling, and pattern logic."
   ]
  },
  {
   "cell_type": "markdown",
   "id": "179cda79-6338-4d25-a09f-b03f3e8994df",
   "metadata": {},
   "source": [
    "## 1. List and Comprehension Practice"
   ]
  },
  {
   "cell_type": "markdown",
   "id": "a6a69f92-06a8-4477-8431-907f36554b22",
   "metadata": {},
   "source": [
    "**1. Generate a list of squares for numbers 1 to 20 using list comprehension.**"
   ]
  },
  {
   "cell_type": "code",
   "execution_count": 5,
   "id": "d0b4e774-feb2-4b6b-a65e-4e80b9e91844",
   "metadata": {},
   "outputs": [
    {
     "data": {
      "text/plain": [
       "[1,\n",
       " 4,\n",
       " 9,\n",
       " 16,\n",
       " 25,\n",
       " 36,\n",
       " 49,\n",
       " 64,\n",
       " 81,\n",
       " 100,\n",
       " 121,\n",
       " 144,\n",
       " 169,\n",
       " 196,\n",
       " 225,\n",
       " 256,\n",
       " 289,\n",
       " 324,\n",
       " 361,\n",
       " 400]"
      ]
     },
     "execution_count": 5,
     "metadata": {},
     "output_type": "execute_result"
    }
   ],
   "source": [
    "l = [x**2 for x in range(1,21)]\n",
    "l"
   ]
  },
  {
   "cell_type": "markdown",
   "id": "07de24b6-439f-4148-ae18-24318b6ceba0",
   "metadata": {},
   "source": [
    "**2. From a given list of integers, create two lists: one with even numbers and one with odd numbers using comprehension.**"
   ]
  },
  {
   "cell_type": "code",
   "execution_count": 6,
   "id": "bb5980c8-4de2-4537-a193-42e22ada55e3",
   "metadata": {},
   "outputs": [
    {
     "data": {
      "text/plain": [
       "[4, 16, 36, 64, 100, 144, 196, 256, 324, 400]"
      ]
     },
     "execution_count": 6,
     "metadata": {},
     "output_type": "execute_result"
    }
   ],
   "source": [
    "even = [x for x in l if x % 2 == 0]\n",
    "even"
   ]
  },
  {
   "cell_type": "code",
   "execution_count": 9,
   "id": "e3bfb90f-e5f1-4b2a-bf4f-9bb955f346e7",
   "metadata": {},
   "outputs": [
    {
     "data": {
      "text/plain": [
       "[1, 9, 25, 49, 81, 121, 169, 225, 289, 361]"
      ]
     },
     "execution_count": 9,
     "metadata": {},
     "output_type": "execute_result"
    }
   ],
   "source": [
    "odd = [x for x in l if x % 2 != 0]\n",
    "odd"
   ]
  },
  {
   "cell_type": "markdown",
   "id": "597c1c19-1226-474d-8c00-2af534bc7236",
   "metadata": {},
   "source": [
    "**3. Flatten a 2D list into a 1D list using comprehension.**"
   ]
  },
  {
   "cell_type": "code",
   "execution_count": 20,
   "id": "a545914a-e1e2-4a86-9390-29b8a34de4ce",
   "metadata": {},
   "outputs": [
    {
     "data": {
      "text/plain": [
       "[1, 2, 3, 4, 5, 6]"
      ]
     },
     "execution_count": 20,
     "metadata": {},
     "output_type": "execute_result"
    }
   ],
   "source": [
    "arr = [[1, 2], [3, 4], [5, 6]]\n",
    "flattened = [x for sublist in arr for x in sublist]\n",
    "flattened"
   ]
  },
  {
   "cell_type": "markdown",
   "id": "cb8ddb51-691a-4dec-b48d-e1b6c24a9dab",
   "metadata": {},
   "source": [
    "## 2. String and Pattern Problems"
   ]
  },
  {
   "cell_type": "markdown",
   "id": "9675527b-0f2f-4cbc-9313-ddfc569fd357",
   "metadata": {},
   "source": [
    "**4. Count words, digits, and special characters in a given string.**"
   ]
  },
  {
   "cell_type": "code",
   "execution_count": 27,
   "id": "6dcf6185-b8b7-46ce-af49-c80703c92bad",
   "metadata": {},
   "outputs": [
    {
     "name": "stdout",
     "output_type": "stream",
     "text": [
      "29 2 7\n"
     ]
    }
   ],
   "source": [
    "str = \"I am Abiral Timalsina. #abiral17@Nepal\"\n",
    "words = 0\n",
    "digits = 0 \n",
    "sc = 0\n",
    "for char in str:\n",
    "    if char.isalpha():\n",
    "        words += 1\n",
    "    elif char.isdigit():\n",
    "        digits += 1\n",
    "    else:\n",
    "        sc += 1\n",
    "print(words, digits , sc)"
   ]
  },
  {
   "cell_type": "markdown",
   "id": "15d07385-0e0a-40b4-ab4f-e6b7d9f1debf",
   "metadata": {},
   "source": [
    "**5. Given a sentence, print all words that start with a vowel.**"
   ]
  },
  {
   "cell_type": "code",
   "execution_count": 38,
   "id": "462183ff-a1a2-4af5-b4a2-5a9d69a5fe5d",
   "metadata": {},
   "outputs": [],
   "source": [
    "sen = \"I am Abiral Timalsina.\"\n",
    "words = sen.split()\n",
    "words_starting_with_vowel = [x for x in words if x[0] in \"AEIOUaeiou\"]"
   ]
  },
  {
   "cell_type": "code",
   "execution_count": 39,
   "id": "948aa0b5-816c-4363-bf94-9aaff1039251",
   "metadata": {},
   "outputs": [
    {
     "name": "stdout",
     "output_type": "stream",
     "text": [
      "I\n",
      "am\n",
      "Abiral\n"
     ]
    }
   ],
   "source": [
    "for word in words_starting_with_vowel:\n",
    "    print(word)"
   ]
  },
  {
   "cell_type": "markdown",
   "id": "4dc5763e-901d-45c9-9844-a18044836330",
   "metadata": {},
   "source": [
    "**6. Create the following number pattern using loops:**  \n",
    "1  \n",
    "12  \n",
    "123  \n",
    "1234  \n",
    "12345  "
   ]
  },
  {
   "cell_type": "code",
   "execution_count": 47,
   "id": "8a6776f6-0ed9-433d-8210-ea77121fb244",
   "metadata": {},
   "outputs": [
    {
     "name": "stdout",
     "output_type": "stream",
     "text": [
      "1\n",
      "12\n",
      "123\n",
      "1234\n",
      "12345\n"
     ]
    }
   ],
   "source": [
    "for i in range(1,6):\n",
    "    for j in range(i):\n",
    "        print(j+1, end =\"\")\n",
    "    print()"
   ]
  },
  {
   "cell_type": "markdown",
   "id": "0882c7fc-3d6c-4fd3-8f93-7207564f0381",
   "metadata": {},
   "source": [
    "**7. Print a pyramid pattern of stars (*) of height n.**"
   ]
  },
  {
   "cell_type": "code",
   "execution_count": 48,
   "id": "4e6f3725-1b8e-48b6-8ec8-554ab58d4e72",
   "metadata": {},
   "outputs": [
    {
     "name": "stdout",
     "output_type": "stream",
     "text": [
      "Enter the height of pyramid:  5\n"
     ]
    }
   ],
   "source": [
    "n = int(input(\"Enter the height of pyramid: \"))"
   ]
  },
  {
   "cell_type": "code",
   "execution_count": 63,
   "id": "03caad47-19d6-4539-ba11-0c35c57ce6b9",
   "metadata": {},
   "outputs": [
    {
     "name": "stdout",
     "output_type": "stream",
     "text": [
      "     *\n",
      "    ***\n",
      "   *****\n",
      "  *******\n",
      " *********\n"
     ]
    }
   ],
   "source": [
    "for i in range(1,n+1):\n",
    "    print(\" \"*(n-i), \"*\"*(i*2-1))"
   ]
  },
  {
   "cell_type": "markdown",
   "id": "d2883324",
   "metadata": {},
   "source": [
    "## 3. Dictionary & Set Practice"
   ]
  },
  {
   "cell_type": "markdown",
   "id": "984c5100",
   "metadata": {},
   "source": [
    "**8. Given a list of names, count how many times each name appears (use a dictionary).**"
   ]
  },
  {
   "cell_type": "code",
   "execution_count": 2,
   "id": "99f4220f-ad69-41c1-8795-fb6037dacc67",
   "metadata": {},
   "outputs": [
    {
     "name": "stdout",
     "output_type": "stream",
     "text": [
      "{'abiral': 3, 'hari': 2, 'ram': 1, 'Sita': 1, 'Shyam': 1}\n"
     ]
    }
   ],
   "source": [
    "names = [\"abiral\", \"hari\", \"ram\", \"abiral\", \"abiral\", \"hari\", \"Sita\", \"Shyam\"]\n",
    "count_name = {}\n",
    "for name in names:\n",
    "    count_name[name] = count_name.get(name, 0)+1\n",
    "\n",
    "print(count_name)"
   ]
  },
  {
   "cell_type": "markdown",
   "id": "ebcefd6f",
   "metadata": {},
   "source": [
    "**9. Write a program to find common elements between two lists using sets.**"
   ]
  },
  {
   "cell_type": "code",
   "execution_count": 3,
   "id": "176f1cf3",
   "metadata": {},
   "outputs": [
    {
     "data": {
      "text/plain": [
       "{3, 4, 5}"
      ]
     },
     "execution_count": 3,
     "metadata": {},
     "output_type": "execute_result"
    }
   ],
   "source": [
    "list1 = [1,2,3,4,5]\n",
    "list2 = [3,4,5,6,7]\n",
    "common = set(list1).intersection(set(list2))\n",
    "common"
   ]
  },
  {
   "cell_type": "markdown",
   "id": "51ba8643",
   "metadata": {},
   "source": [
    "**10. Create a dictionary that maps each character in a string to its index positions.**"
   ]
  },
  {
   "cell_type": "code",
   "execution_count": 29,
   "id": "226026af",
   "metadata": {},
   "outputs": [
    {
     "data": {
      "text/plain": [
       "{'P': [0],\n",
       " 'r': [1, 4],\n",
       " 'o': [2],\n",
       " 'g': [3, 10],\n",
       " 'a': [5],\n",
       " 'm': [6, 7],\n",
       " 'i': [8],\n",
       " 'n': [9]}"
      ]
     },
     "execution_count": 29,
     "metadata": {},
     "output_type": "execute_result"
    }
   ],
   "source": [
    "str = \"Programming\"\n",
    "ind = {}\n",
    "for i, char in enumerate(str):\n",
    "    ind.setdefault(char, []).append(i)\n",
    "ind"
   ]
  },
  {
   "cell_type": "markdown",
   "id": "4091f95a",
   "metadata": {},
   "source": [
    "## 4. Functions & Lambda"
   ]
  },
  {
   "cell_type": "markdown",
   "id": "2793fbe5",
   "metadata": {},
   "source": [
    "**11. Write a lambda function to:**\n",
    "* Find the square of a number\n",
    "* Check if a number is even\n",
    "* Sort a list of tuples based on the second element"
   ]
  },
  {
   "cell_type": "code",
   "execution_count": 31,
   "id": "23ae2515",
   "metadata": {},
   "outputs": [
    {
     "data": {
      "text/plain": [
       "16"
      ]
     },
     "execution_count": 31,
     "metadata": {},
     "output_type": "execute_result"
    }
   ],
   "source": [
    "square = lambda x:x**2\n",
    "square(4)"
   ]
  },
  {
   "cell_type": "code",
   "execution_count": null,
   "id": "941de39d",
   "metadata": {},
   "outputs": [
    {
     "data": {
      "text/plain": [
       "True"
      ]
     },
     "execution_count": 33,
     "metadata": {},
     "output_type": "execute_result"
    }
   ],
   "source": [
    "check_even = lambda x:x%2==0\n",
    "check_even(6)"
   ]
  },
  {
   "cell_type": "code",
   "execution_count": 36,
   "id": "59bb24c9",
   "metadata": {},
   "outputs": [
    {
     "data": {
      "text/plain": [
       "[(5, 0), (2, 1), (4, 2), (1, 3)]"
      ]
     },
     "execution_count": 36,
     "metadata": {},
     "output_type": "execute_result"
    }
   ],
   "source": [
    "list_of_tuples = [(1, 3), (2, 1), (4, 2), (5, 0)]\n",
    "sorted_by_second = sorted(list_of_tuples, key=lambda t: t[1])\n",
    "\n",
    "sorted_by_second"
   ]
  },
  {
   "cell_type": "markdown",
   "id": "34d2a46a",
   "metadata": {},
   "source": [
    "**12. Create a function that takes a list of integers and returns the second largest number**"
   ]
  },
  {
   "cell_type": "code",
   "execution_count": 42,
   "id": "99439790",
   "metadata": {},
   "outputs": [
    {
     "data": {
      "text/plain": [
       "17"
      ]
     },
     "execution_count": 42,
     "metadata": {},
     "output_type": "execute_result"
    }
   ],
   "source": [
    "def second_largest(my_list):\n",
    "    s = sorted(my_list, reverse=True)\n",
    "    return s[1]\n",
    "\n",
    "my_list = [1,56,17,3,4,5,14]\n",
    "second_largest(my_list)"
   ]
  },
  {
   "cell_type": "markdown",
   "id": "b6fb0ac5",
   "metadata": {},
   "source": [
    "## 5. File Handling"
   ]
  },
  {
   "cell_type": "markdown",
   "id": "abecc02a",
   "metadata": {},
   "source": [
    "**13. Write a Python program to:**\n",
    "* Create a text file\n",
    "* Write 5 lines of text into it\n",
    "* Read and print all lines\n",
    "* Count how many words the file contains"
   ]
  },
  {
   "cell_type": "code",
   "execution_count": 48,
   "id": "a517ae29",
   "metadata": {},
   "outputs": [
    {
     "name": "stdout",
     "output_type": "stream",
     "text": [
      "Hello I am abiral\n",
      "timalsina is my surname\n",
      "lala\n",
      "k cha bro \n",
      "thik xa ni\n"
     ]
    }
   ],
   "source": [
    "with open(\"hello.txt\") as f:\n",
    "    text = f.read()\n",
    "    print(text)"
   ]
  },
  {
   "cell_type": "code",
   "execution_count": 55,
   "id": "88284f40",
   "metadata": {},
   "outputs": [
    {
     "data": {
      "text/plain": [
       "15"
      ]
     },
     "execution_count": 55,
     "metadata": {},
     "output_type": "execute_result"
    }
   ],
   "source": [
    "words = text.split()\n",
    "len(words)"
   ]
  },
  {
   "cell_type": "markdown",
   "id": "a65535a6",
   "metadata": {},
   "source": [
    "**14. Write a program to count line numbers and print lines that contain a specific word.**"
   ]
  },
  {
   "cell_type": "code",
   "execution_count": 57,
   "id": "1202e41c",
   "metadata": {},
   "outputs": [
    {
     "data": {
      "text/plain": [
       "5"
      ]
     },
     "execution_count": 57,
     "metadata": {},
     "output_type": "execute_result"
    }
   ],
   "source": [
    "count = 0\n",
    "with open(\"hello.txt\") as f:\n",
    "    for line in f:\n",
    "        count += 1\n",
    "count"
   ]
  },
  {
   "cell_type": "code",
   "execution_count": 59,
   "id": "923a57cb",
   "metadata": {},
   "outputs": [
    {
     "name": "stdout",
     "output_type": "stream",
     "text": [
      "Hello I am abiral\n",
      "\n"
     ]
    }
   ],
   "source": [
    "specific_word = \"abiral\"\n",
    "with open(\"hello.txt\") as f:\n",
    "    for line in f:\n",
    "        if specific_word in line:\n",
    "            print(line)"
   ]
  },
  {
   "cell_type": "markdown",
   "id": "26ff0714",
   "metadata": {},
   "source": [
    "## 6. Error Handling"
   ]
  },
  {
   "cell_type": "markdown",
   "id": "181bbdf4",
   "metadata": {},
   "source": [
    "**15. Write a program that takes two numbers from the user and divides them Handle ZeroDivisionError and ValueError gracefully.**"
   ]
  },
  {
   "cell_type": "code",
   "execution_count": 66,
   "id": "3cbdbfcb",
   "metadata": {},
   "outputs": [
    {
     "name": "stdout",
     "output_type": "stream",
     "text": [
      "You cannot divide by 0\n"
     ]
    }
   ],
   "source": [
    "num1 = int(input(\"Enter first number: \"))\n",
    "num2 = int(input(\"Enter second number: \"))\n",
    "\n",
    "try:\n",
    "    division = num1/num2\n",
    "    print(division)\n",
    "except ZeroDivisionError:\n",
    "    print(\"You cannot divide by 0\")\n",
    "except ValueError:\n",
    "    print(\"Enter proper integer value for division\")"
   ]
  },
  {
   "cell_type": "code",
   "execution_count": null,
   "id": "41f9839a",
   "metadata": {},
   "outputs": [],
   "source": []
  }
 ],
 "metadata": {
  "kernelspec": {
   "display_name": "base",
   "language": "python",
   "name": "python3"
  },
  "language_info": {
   "codemirror_mode": {
    "name": "ipython",
    "version": 3
   },
   "file_extension": ".py",
   "mimetype": "text/x-python",
   "name": "python",
   "nbconvert_exporter": "python",
   "pygments_lexer": "ipython3",
   "version": "3.13.5"
  }
 },
 "nbformat": 4,
 "nbformat_minor": 5
}
