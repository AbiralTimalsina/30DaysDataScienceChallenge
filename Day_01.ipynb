{
 "cells": [
  {
   "cell_type": "markdown",
   "id": "230192e8-8882-4a5b-aec2-2eba7a572f8f",
   "metadata": {},
   "source": [
    "# Day 1 – Python Fundamentals\n",
    "**Topics Covered:** Variables, Data Types, Conditionals, Loops, Lists, Tuples, Dictionaries, Functions"
   ]
  },
  {
   "cell_type": "markdown",
   "id": "725f37f2-1b85-41d5-967c-03c5551c7ab9",
   "metadata": {},
   "source": [
    "## 1. Variables & Data Types"
   ]
  },
  {
   "cell_type": "markdown",
   "id": "d44ad618-94e3-4c1a-a945-4cb2789661f2",
   "metadata": {},
   "source": [
    " **1. Create variables of different data types (int, float, string, bool, list, tuple, dict). Print their types.**"
   ]
  },
  {
   "cell_type": "code",
   "execution_count": 1,
   "id": "22975e6d-86b9-4f9b-a7de-19ed053d2f4a",
   "metadata": {},
   "outputs": [],
   "source": [
    "num = 12\n",
    "deci = 10.5\n",
    "str = \"Python\"\n",
    "condition = True\n",
    "lst = [1,2,3]\n",
    "tup = (1,2,3)\n",
    "dic = {\"name\":\"Abiral\", \"age\":22}"
   ]
  },
  {
   "cell_type": "code",
   "execution_count": 2,
   "id": "302846b1-d9ab-4e89-96a9-f137aaaf708c",
   "metadata": {},
   "outputs": [
    {
     "data": {
      "text/plain": [
       "int"
      ]
     },
     "execution_count": 2,
     "metadata": {},
     "output_type": "execute_result"
    }
   ],
   "source": [
    "type(num)"
   ]
  },
  {
   "cell_type": "code",
   "execution_count": 3,
   "id": "977ac44a-3586-49e9-b985-215f7dcdf61a",
   "metadata": {},
   "outputs": [
    {
     "data": {
      "text/plain": [
       "float"
      ]
     },
     "execution_count": 3,
     "metadata": {},
     "output_type": "execute_result"
    }
   ],
   "source": [
    "type(deci)"
   ]
  },
  {
   "cell_type": "code",
   "execution_count": 4,
   "id": "e276b05b-31c1-4516-92b0-123ad22723fd",
   "metadata": {},
   "outputs": [
    {
     "data": {
      "text/plain": [
       "str"
      ]
     },
     "execution_count": 4,
     "metadata": {},
     "output_type": "execute_result"
    }
   ],
   "source": [
    "type(str)"
   ]
  },
  {
   "cell_type": "code",
   "execution_count": 5,
   "id": "1aff841e-cdf7-4a7d-8ef5-e13d1ac5b6dd",
   "metadata": {},
   "outputs": [
    {
     "data": {
      "text/plain": [
       "bool"
      ]
     },
     "execution_count": 5,
     "metadata": {},
     "output_type": "execute_result"
    }
   ],
   "source": [
    "type(condition)"
   ]
  },
  {
   "cell_type": "code",
   "execution_count": 6,
   "id": "c6e87997-3dd1-4483-aae0-a35ef81b8fbc",
   "metadata": {},
   "outputs": [
    {
     "data": {
      "text/plain": [
       "list"
      ]
     },
     "execution_count": 6,
     "metadata": {},
     "output_type": "execute_result"
    }
   ],
   "source": [
    "type(lst)"
   ]
  },
  {
   "cell_type": "code",
   "execution_count": 7,
   "id": "1b26277e-9752-4b6c-9ff8-50ce518bdec5",
   "metadata": {},
   "outputs": [
    {
     "data": {
      "text/plain": [
       "tuple"
      ]
     },
     "execution_count": 7,
     "metadata": {},
     "output_type": "execute_result"
    }
   ],
   "source": [
    "type(tup)"
   ]
  },
  {
   "cell_type": "code",
   "execution_count": 8,
   "id": "d4e97ffd-e381-407f-8a39-4e9e511ab829",
   "metadata": {},
   "outputs": [
    {
     "data": {
      "text/plain": [
       "dict"
      ]
     },
     "execution_count": 8,
     "metadata": {},
     "output_type": "execute_result"
    }
   ],
   "source": [
    "type(dic)"
   ]
  },
  {
   "cell_type": "markdown",
   "id": "a14d8680-1108-42c0-b108-74179cac9983",
   "metadata": {},
   "source": [
    "**2. Swap two numbers without using a third variable.**"
   ]
  },
  {
   "cell_type": "code",
   "execution_count": 9,
   "id": "d554a0cf-3603-476a-99a2-704bb9af2e94",
   "metadata": {},
   "outputs": [],
   "source": [
    "a = 5\n",
    "b = 10"
   ]
  },
  {
   "cell_type": "code",
   "execution_count": 10,
   "id": "e9ddefc7-3711-4c07-a042-93f8d3804cb7",
   "metadata": {},
   "outputs": [],
   "source": [
    "a = a + b\n",
    "b = a - b\n",
    "a = a - b"
   ]
  },
  {
   "cell_type": "code",
   "execution_count": 11,
   "id": "8965e5ca-592d-416f-a6a7-6e76d139cf21",
   "metadata": {},
   "outputs": [
    {
     "name": "stdout",
     "output_type": "stream",
     "text": [
      "10\n",
      "5\n"
     ]
    }
   ],
   "source": [
    "print(a)\n",
    "print(b)"
   ]
  },
  {
   "cell_type": "markdown",
   "id": "aa6b00c6-84cf-4fde-83ff-2e66bd14e329",
   "metadata": {},
   "source": [
    "## 2. Strings"
   ]
  },
  {
   "cell_type": "markdown",
   "id": "57b50276-90c2-41d7-a685-bbc1781f925e",
   "metadata": {},
   "source": [
    "**3. Take a user input string and print:**\n",
    "* Its reverse\n",
    "* Number of vowels and consonants\n",
    "* Whether it's palindrome or not"
   ]
  },
  {
   "cell_type": "code",
   "execution_count": 12,
   "id": "ff2a6906-d317-41c5-a819-1a2fa3e7842f",
   "metadata": {},
   "outputs": [],
   "source": [
    "str = \"abiral\""
   ]
  },
  {
   "cell_type": "code",
   "execution_count": 13,
   "id": "81d46d4e-1846-4ebe-ac4e-d3affa1aae47",
   "metadata": {},
   "outputs": [
    {
     "data": {
      "text/plain": [
       "'lariba'"
      ]
     },
     "execution_count": 13,
     "metadata": {},
     "output_type": "execute_result"
    }
   ],
   "source": [
    "reversed_string = str[::-1]\n",
    "reversed_string"
   ]
  },
  {
   "cell_type": "code",
   "execution_count": 14,
   "id": "10abdd93-42a5-4d19-979a-cf4ed8b339b2",
   "metadata": {},
   "outputs": [],
   "source": [
    "vowels = \"aeiouAEIOU\"\n",
    "vcount = 0\n",
    "count= 0 \n",
    "for char in str:\n",
    "    if char in vowels:\n",
    "        vcount+=1\n",
    "    else:\n",
    "        count+=1"
   ]
  },
  {
   "cell_type": "code",
   "execution_count": 15,
   "id": "8361f3ca-a4b8-4779-a1b1-3c421f1b0a39",
   "metadata": {},
   "outputs": [
    {
     "name": "stdout",
     "output_type": "stream",
     "text": [
      "The number of vowels is 3 and consonants is 3\n"
     ]
    }
   ],
   "source": [
    "print(f\"The number of vowels is {vcount} and consonants is {count}\")"
   ]
  },
  {
   "cell_type": "code",
   "execution_count": 16,
   "id": "f7654175-4515-4431-8292-c42346d465ea",
   "metadata": {},
   "outputs": [
    {
     "name": "stdout",
     "output_type": "stream",
     "text": [
      "Not Palindrome\n"
     ]
    }
   ],
   "source": [
    "if (str == reversed_string): # Try the word 'madam' to get output as palindrome\n",
    "    print(\"Palindrome\")\n",
    "else:\n",
    "    print(\"Not Palindrome\")"
   ]
  },
  {
   "cell_type": "markdown",
   "id": "1b862f93-0094-41e9-8f5c-552fe2abf701",
   "metadata": {},
   "source": [
    "**4. Count the frequency of each character in a string (use a dictionary).**"
   ]
  },
  {
   "cell_type": "code",
   "execution_count": 17,
   "id": "9fd070f2-6b3a-4dc4-aa20-3ada4dba4214",
   "metadata": {},
   "outputs": [],
   "source": [
    "freq_str = \"Programming\"\n",
    "freq= {}\n",
    "for char in freq_str:\n",
    "    freq[char]=freq.get(char,0)+1 #get method gives the value associated to it or gives a default value that we set"
   ]
  },
  {
   "cell_type": "code",
   "execution_count": 18,
   "id": "150da615-a53c-482f-ada5-50a988f4a9d4",
   "metadata": {},
   "outputs": [
    {
     "data": {
      "text/plain": [
       "{'P': 1, 'r': 2, 'o': 1, 'g': 2, 'a': 1, 'm': 2, 'i': 1, 'n': 1}"
      ]
     },
     "execution_count": 18,
     "metadata": {},
     "output_type": "execute_result"
    }
   ],
   "source": [
    "freq"
   ]
  },
  {
   "cell_type": "markdown",
   "id": "85113526-d4b6-4a50-9fc3-0fbb8a9c7650",
   "metadata": {},
   "source": [
    "## 3. Lists"
   ]
  },
  {
   "cell_type": "markdown",
   "id": "e7b994f4-9271-403a-888b-12ee726e26b6",
   "metadata": {},
   "source": [
    "**5. Given a list of numbers, find:**\n",
    "* Maximum and minimum element (without using built-in max() and min())\n",
    "* Sum and average\n",
    "* Even and odd numbers in separate lists"
   ]
  },
  {
   "cell_type": "code",
   "execution_count": 19,
   "id": "260f0862-87d8-4872-be04-7101823e9faa",
   "metadata": {},
   "outputs": [],
   "source": [
    "lst = [12,3,54,64,12,55]"
   ]
  },
  {
   "cell_type": "code",
   "execution_count": 20,
   "id": "aaf3ad14-5fbe-4c96-be58-9ce9441f28e4",
   "metadata": {},
   "outputs": [
    {
     "name": "stdout",
     "output_type": "stream",
     "text": [
      "The maximum in the list is 64 and minimum is 3\n"
     ]
    }
   ],
   "source": [
    "max_item = lst[0]\n",
    "min_item = lst[0]\n",
    "for item in lst:\n",
    "    if item > max_item:\n",
    "        max_item = item\n",
    "    if item < min_item:\n",
    "        min_item = item\n",
    "print(f\"The maximum in the list is {max_item} and minimum is {min_item}\")"
   ]
  },
  {
   "cell_type": "code",
   "execution_count": 21,
   "id": "ca432327-5822-4974-8876-591b941c216c",
   "metadata": {},
   "outputs": [
    {
     "name": "stdout",
     "output_type": "stream",
     "text": [
      "Sum: 200 and average: 33.333333333333336\n"
     ]
    }
   ],
   "source": [
    "sum = 0\n",
    "for item in lst:\n",
    "    sum += item\n",
    "avg = sum/len(lst)\n",
    "print(f\"Sum: {sum} and average: {avg}\")"
   ]
  },
  {
   "cell_type": "code",
   "execution_count": 22,
   "id": "a67a0d77-9ad5-4458-99dc-e7cfbb7c39ff",
   "metadata": {},
   "outputs": [],
   "source": [
    "even = [x for x in lst if x % 2 == 0]\n",
    "odd = [x for x  in lst if x % 2 != 0]"
   ]
  },
  {
   "cell_type": "code",
   "execution_count": 23,
   "id": "c0628630-f093-44fb-83ca-94dcec4cc8f9",
   "metadata": {},
   "outputs": [
    {
     "data": {
      "text/plain": [
       "[12, 54, 64, 12]"
      ]
     },
     "execution_count": 23,
     "metadata": {},
     "output_type": "execute_result"
    }
   ],
   "source": [
    "even"
   ]
  },
  {
   "cell_type": "code",
   "execution_count": 24,
   "id": "90679af3-d42c-4104-84ad-ceeee1692e76",
   "metadata": {},
   "outputs": [
    {
     "data": {
      "text/plain": [
       "[3, 55]"
      ]
     },
     "execution_count": 24,
     "metadata": {},
     "output_type": "execute_result"
    }
   ],
   "source": [
    "odd"
   ]
  },
  {
   "cell_type": "markdown",
   "id": "5c076fee-83f5-4ff4-83b9-c888e9509f6b",
   "metadata": {},
   "source": [
    "**6. Remove duplicates from a list without using set().**"
   ]
  },
  {
   "cell_type": "code",
   "execution_count": 25,
   "id": "2a2e18c3-0238-4425-adc5-b1bca14b902d",
   "metadata": {},
   "outputs": [],
   "source": [
    "unique_lst = []\n",
    "for item in lst:\n",
    "    if item not in unique_lst:\n",
    "        unique_lst.append(item)\n",
    "    "
   ]
  },
  {
   "cell_type": "code",
   "execution_count": 26,
   "id": "969911d1-1d42-4cac-863a-b94db8d76e88",
   "metadata": {},
   "outputs": [
    {
     "data": {
      "text/plain": [
       "[12, 3, 54, 64, 55]"
      ]
     },
     "execution_count": 26,
     "metadata": {},
     "output_type": "execute_result"
    }
   ],
   "source": [
    "unique_lst # There should not be two 12s"
   ]
  },
  {
   "cell_type": "markdown",
   "id": "25b784cf-da4d-4fa8-b9e7-a0caf49c2b6b",
   "metadata": {},
   "source": [
    "**7. Sort a list manually using any algorithm (e.g., bubble sort).**"
   ]
  },
  {
   "cell_type": "code",
   "execution_count": 27,
   "id": "c6ea722a-aeaf-484b-9a38-d4ebdc8d9b3d",
   "metadata": {},
   "outputs": [],
   "source": [
    "n = len(lst)"
   ]
  },
  {
   "cell_type": "code",
   "execution_count": 28,
   "id": "37438c50-37e1-4da0-91d4-3ef01b3e6692",
   "metadata": {},
   "outputs": [
    {
     "name": "stdout",
     "output_type": "stream",
     "text": [
      "[3, 12, 12, 54, 55, 64]\n"
     ]
    }
   ],
   "source": [
    "for i in range(n):\n",
    "    for j in range(n-1):\n",
    "        if lst[j]>lst[j+1]:\n",
    "            lst[j], lst[j+1] = lst[j+1], lst[j]\n",
    "print(lst)"
   ]
  },
  {
   "cell_type": "markdown",
   "id": "2e2841de-e039-48de-bed7-1a08b51bd332",
   "metadata": {},
   "source": [
    "## 4. Tuples and Dictionaries"
   ]
  },
  {
   "cell_type": "markdown",
   "id": "df39b69b-b32d-4fc2-b198-c6fecd87bdd9",
   "metadata": {},
   "source": [
    "**8. Convert a list of tuples into a dictionary.**   \n",
    "       Example: [('a', 1), ('b', 2)] → {'a': 1, 'b': 2}"
   ]
  },
  {
   "cell_type": "code",
   "execution_count": 29,
   "id": "330bbf90-e603-47c6-8ef2-c081a9cef4d5",
   "metadata": {},
   "outputs": [],
   "source": [
    "tup = [('a',1),('b',2)]"
   ]
  },
  {
   "cell_type": "code",
   "execution_count": 30,
   "id": "b84ad9d6-42ef-42e4-81a0-41cb1e62c34d",
   "metadata": {},
   "outputs": [],
   "source": [
    "dic = dict(tup)"
   ]
  },
  {
   "cell_type": "code",
   "execution_count": 31,
   "id": "66d8ccbf-3faa-4ea5-b7af-10a7b340c03f",
   "metadata": {},
   "outputs": [
    {
     "data": {
      "text/plain": [
       "{'a': 1, 'b': 2}"
      ]
     },
     "execution_count": 31,
     "metadata": {},
     "output_type": "execute_result"
    }
   ],
   "source": [
    "dic"
   ]
  },
  {
   "cell_type": "markdown",
   "id": "b61e72d1-c019-4efa-b451-498de92b55cb",
   "metadata": {},
   "source": [
    "**9. Merge two dictionaries and handle overlapping keys by summing their values.**"
   ]
  },
  {
   "cell_type": "code",
   "execution_count": 32,
   "id": "59573f64-56ae-4a02-9ccc-b8265baff07e",
   "metadata": {},
   "outputs": [],
   "source": [
    "dict1 = {'a': 1, 'b': 2, 'c': 3}\n",
    "dict2 = {'b': 3, 'c': 4, 'd': 5}"
   ]
  },
  {
   "cell_type": "code",
   "execution_count": 33,
   "id": "39099ee9-5668-4477-9d47-5852734e1475",
   "metadata": {},
   "outputs": [],
   "source": [
    "from collections import Counter"
   ]
  },
  {
   "cell_type": "code",
   "execution_count": 34,
   "id": "1fdef1a6-fdab-4a1e-94a9-04514af1bce6",
   "metadata": {},
   "outputs": [
    {
     "data": {
      "text/plain": [
       "{'a': 1, 'b': 5, 'c': 7, 'd': 5}"
      ]
     },
     "execution_count": 34,
     "metadata": {},
     "output_type": "execute_result"
    }
   ],
   "source": [
    "merged_dict = Counter(dict1) + Counter(dict2)\n",
    "dict(merged_dict)"
   ]
  },
  {
   "cell_type": "markdown",
   "id": "8295f581-6782-4458-ac1d-24047f6bafb4",
   "metadata": {},
   "source": [
    "**10. Given a dictionary of student names and marks, find the student(s) with the highest score.**"
   ]
  },
  {
   "cell_type": "code",
   "execution_count": 35,
   "id": "f13d5993-3fd1-413a-8c8d-0b93a8d42ccc",
   "metadata": {},
   "outputs": [],
   "source": [
    "student_marks = {\n",
    "    \"Abiral\": 97,\n",
    "    \"Ram\": 92,\n",
    "    \"Sita\": 85,\n",
    "    \"Hari\": 97,\n",
    "    \"Karan\": 78\n",
    "}"
   ]
  },
  {
   "cell_type": "code",
   "execution_count": 37,
   "id": "05a43b3a-c606-4534-9aa2-14c717b0289c",
   "metadata": {},
   "outputs": [],
   "source": [
    "highest = max(student_marks.values())"
   ]
  },
  {
   "cell_type": "code",
   "execution_count": 43,
   "id": "b0a96fb1-d14a-4400-b4ae-dd0c6455afb5",
   "metadata": {},
   "outputs": [
    {
     "name": "stdout",
     "output_type": "stream",
     "text": [
      "Abiral\n",
      "Hari\n"
     ]
    }
   ],
   "source": [
    "for key, value in student_marks.items():\n",
    "    if value == highest:\n",
    "        print(key)"
   ]
  },
  {
   "cell_type": "markdown",
   "id": "d52a8f31-3b18-4a74-af29-ac110610ef53",
   "metadata": {},
   "source": [
    "## 5. Conditionals and Loops"
   ]
  },
  {
   "cell_type": "markdown",
   "id": "c90e7cac-2105-4308-9e69-235c19318f7b",
   "metadata": {},
   "source": [
    "**11. Write a program to check if a number is prime.**"
   ]
  },
  {
   "cell_type": "code",
   "execution_count": 88,
   "id": "db84d62f-b0fd-4a02-9db1-23898ee69f14",
   "metadata": {},
   "outputs": [],
   "source": [
    "num = 17\n",
    "flag = 0"
   ]
  },
  {
   "cell_type": "code",
   "execution_count": 90,
   "id": "3d7eed27-4f84-4ba3-987f-10d057c17873",
   "metadata": {},
   "outputs": [
    {
     "name": "stdout",
     "output_type": "stream",
     "text": [
      "17 is prime.\n"
     ]
    }
   ],
   "source": [
    "for n in range(2,num//2):\n",
    "    if num == (0 or 1):\n",
    "        print(f\"{num} is not prime.\")\n",
    "    else:\n",
    "        if(num % n ==0):\n",
    "            flag = 1\n",
    "            break\n",
    "if(flag == 1):\n",
    "    print(f\"{num} is not prime.\")\n",
    "else:\n",
    "    print(f\"{num} is prime.\")\n"
   ]
  },
  {
   "cell_type": "markdown",
   "id": "5d251856-f72e-407f-b858-28892f06e6bf",
   "metadata": {},
   "source": [
    "**12. Generate a Fibonacci sequence up to n terms.**"
   ]
  },
  {
   "cell_type": "code",
   "execution_count": 128,
   "id": "9e2d4967-f83c-4cbd-adf8-39a2c43b761b",
   "metadata": {},
   "outputs": [
    {
     "name": "stdin",
     "output_type": "stream",
     "text": [
      "Enter the number of terms:  5\n"
     ]
    },
    {
     "name": "stdout",
     "output_type": "stream",
     "text": [
      "0\n",
      "1\n",
      "1\n",
      "2\n",
      "3\n"
     ]
    }
   ],
   "source": [
    "a = 0\n",
    "b = 1\n",
    "n = int(input(\"Enter the number of terms: \")) \n",
    "if(n == 1):\n",
    "    print(a)\n",
    "elif(n >= 2):\n",
    "    print(a)\n",
    "    print(b)\n",
    "    for i in range(2, n):\n",
    "        c = a + b\n",
    "        a = b\n",
    "        b = c\n",
    "        print(c)\n",
    "    "
   ]
  },
  {
   "cell_type": "markdown",
   "id": "4e3b2f38-30dd-4f0a-b1d5-f5fe33dc271e",
   "metadata": {},
   "source": [
    "## 6. Functions"
   ]
  },
  {
   "cell_type": "markdown",
   "id": "8a8ff7aa-1871-4f90-b115-fce0b213dc2a",
   "metadata": {},
   "source": [
    "**13. Write a function to calculate factorial (both iterative and recursive methods).**"
   ]
  },
  {
   "cell_type": "code",
   "execution_count": 135,
   "id": "d60ba9f0-15ee-405e-a3b0-b9d0e17488a5",
   "metadata": {},
   "outputs": [
    {
     "name": "stdout",
     "output_type": "stream",
     "text": [
      "120\n"
     ]
    }
   ],
   "source": [
    "## iterative\n",
    "def factorial(n):\n",
    "    fact = 1\n",
    "\n",
    "    for i in range(1, n+1):\n",
    "        fact *= i\n",
    "    print(fact)\n",
    "\n",
    "factorial(5)"
   ]
  },
  {
   "cell_type": "code",
   "execution_count": 147,
   "id": "836f7200-917c-41ef-ad10-6694dca2211b",
   "metadata": {},
   "outputs": [],
   "source": [
    "def facto(n): \n",
    "    if n == 1 or n == 0:\n",
    "        return 1\n",
    "    else:\n",
    "        return n * facto(n-1)"
   ]
  },
  {
   "cell_type": "code",
   "execution_count": 148,
   "id": "268880e7-edd1-43f8-84dd-445ace851ba1",
   "metadata": {},
   "outputs": [
    {
     "data": {
      "text/plain": [
       "120"
      ]
     },
     "execution_count": 148,
     "metadata": {},
     "output_type": "execute_result"
    }
   ],
   "source": [
    "facto(5)"
   ]
  },
  {
   "cell_type": "markdown",
   "id": "b38ecfea-9ae7-43be-a80a-7c84d578c430",
   "metadata": {},
   "source": [
    "**14. Write a function that takes a list of numbers and returns a new list with only unique elements.**"
   ]
  },
  {
   "cell_type": "code",
   "execution_count": 150,
   "id": "028fde66-b504-401b-ac5f-f67e658c7cb0",
   "metadata": {},
   "outputs": [
    {
     "data": {
      "text/plain": [
       "[1, 2, 3, 4]"
      ]
     },
     "execution_count": 150,
     "metadata": {},
     "output_type": "execute_result"
    }
   ],
   "source": [
    "def unique(lis):\n",
    "    return list(set(lis))\n",
    "\n",
    "l = [1,1,1,2,2,2,3,4,4,4]\n",
    "unique(l)"
   ]
  },
  {
   "cell_type": "markdown",
   "id": "6a5e13d6-850e-42b7-ba75-a256ae99c913",
   "metadata": {},
   "source": [
    "**15. Create a function that takes a string and returns the number of uppercase and lowercase letters.**"
   ]
  },
  {
   "cell_type": "code",
   "execution_count": 154,
   "id": "13c05b31-4072-4c64-b3d1-cdbc62edd480",
   "metadata": {},
   "outputs": [],
   "source": [
    "def counter(str):\n",
    "    upcount = 0\n",
    "    lcount = 0 \n",
    "    for char in str:\n",
    "        if char.isupper():\n",
    "            upcount += 1\n",
    "        else:\n",
    "            lcount += 1\n",
    "    return upcount, lcount"
   ]
  },
  {
   "cell_type": "code",
   "execution_count": 156,
   "id": "7d6c38e7-c73c-4ead-bd65-5768ca21a638",
   "metadata": {},
   "outputs": [],
   "source": [
    "upper, lower = counter(\"AbiraL\") ## Just giving the example of unpacking haha "
   ]
  },
  {
   "cell_type": "code",
   "execution_count": 157,
   "id": "7c4996e2-b039-4ad9-b508-b0e37ad6dcae",
   "metadata": {},
   "outputs": [
    {
     "data": {
      "text/plain": [
       "2"
      ]
     },
     "execution_count": 157,
     "metadata": {},
     "output_type": "execute_result"
    }
   ],
   "source": [
    "upper "
   ]
  },
  {
   "cell_type": "code",
   "execution_count": 158,
   "id": "a1500485-0fa5-4cc2-8bff-5c9413d98d2a",
   "metadata": {},
   "outputs": [
    {
     "data": {
      "text/plain": [
       "4"
      ]
     },
     "execution_count": 158,
     "metadata": {},
     "output_type": "execute_result"
    }
   ],
   "source": [
    "lower"
   ]
  },
  {
   "cell_type": "markdown",
   "id": "64e1a760-b751-4689-8786-0d5dec43c131",
   "metadata": {},
   "source": [
    "## Challange of the Day"
   ]
  },
  {
   "cell_type": "markdown",
   "id": "64e6408e-3f8d-4645-91be-cabe4fa64138",
   "metadata": {},
   "source": [
    "**16. Write a program that reads a sentence and outputs the most frequent word.**"
   ]
  },
  {
   "cell_type": "code",
   "execution_count": 182,
   "id": "5d086bbf-70bb-4261-aebf-3f5fa115d216",
   "metadata": {},
   "outputs": [
    {
     "name": "stdin",
     "output_type": "stream",
     "text": [
      "Enter a Sentence:  abiral timalsina abiral timalsina is a man\n"
     ]
    },
    {
     "name": "stdout",
     "output_type": "stream",
     "text": [
      "The most frequent word is 'abiral' and it appears 2 times.\n"
     ]
    }
   ],
   "source": [
    "sen = input(\"Enter a Sentence: \")\n",
    "words = sen.split()\n",
    "words_count = {}\n",
    "for word in words:\n",
    "    words_count[word] = words_count.get(word , 0) + 1\n",
    "most_frequent_word = max(words_count, key = words_count.get)\n",
    "frequency = words_count[most_frequent_word]\n",
    "print(f\"The most frequent word is '{most_frequent_word}' and it appears {frequency} times.\")\n"
   ]
  },
  {
   "cell_type": "markdown",
   "id": "157aa03f-365a-44bd-8fa6-0be53a5980b5",
   "metadata": {},
   "source": [
    "**17. Build a simple calculator function that supports +, -, \\*, /, and handles invalid input gracefully.**"
   ]
  },
  {
   "cell_type": "code",
   "execution_count": 183,
   "id": "0fb963ac-8612-41bc-8d1c-b9c90f3c4794",
   "metadata": {},
   "outputs": [
    {
     "name": "stdin",
     "output_type": "stream",
     "text": [
      "Enter first number:  5\n",
      "Enter second number:  10\n",
      "Enter an operator (+, -, *, /):  *\n"
     ]
    },
    {
     "name": "stdout",
     "output_type": "stream",
     "text": [
      "Result: 50.0\n"
     ]
    }
   ],
   "source": [
    "def calculator(a, b, operator):\n",
    "    try:\n",
    "        if operator == '+':\n",
    "            return a + b\n",
    "        elif operator == '-':\n",
    "            return a - b\n",
    "        elif operator == '*':\n",
    "            return a * b\n",
    "        elif operator == '/':\n",
    "            if b == 0:\n",
    "                return \"Error: Division by zero!\"\n",
    "            return a / b\n",
    "        else:\n",
    "            return \"Error: Invalid operator! Use +, -, *, or /.\"\n",
    "    except Exception as e:\n",
    "        return f\"Error: {e}\"\n",
    "\n",
    "num1 = float(input(\"Enter first number: \"))\n",
    "num2 = float(input(\"Enter second number: \"))\n",
    "op = input(\"Enter an operator (+, -, *, /): \")\n",
    "\n",
    "result = calculator(num1, num2, op)\n",
    "print(\"Result:\", result)\n"
   ]
  },
  {
   "cell_type": "code",
   "execution_count": null,
   "id": "c89f5ee9-296e-4bd2-b38b-e8a921b32fe8",
   "metadata": {},
   "outputs": [],
   "source": []
  }
 ],
 "metadata": {
  "kernelspec": {
   "display_name": "Python 3 (ipykernel)",
   "language": "python",
   "name": "python3"
  },
  "language_info": {
   "codemirror_mode": {
    "name": "ipython",
    "version": 3
   },
   "file_extension": ".py",
   "mimetype": "text/x-python",
   "name": "python",
   "nbconvert_exporter": "python",
   "pygments_lexer": "ipython3",
   "version": "3.13.5"
  }
 },
 "nbformat": 4,
 "nbformat_minor": 5
}
